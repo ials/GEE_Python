{
 "cells": [
  {
   "cell_type": "markdown",
   "metadata": {
    "colab_type": "text",
    "id": "oT30_0wOz5-P"
   },
   "source": [
    "<!--COURSE_INFORMATION-->\n",
    "<img align=\"left\" style=\"padding-right:10px;\" src=\"https://sitejerk.com/images/google-earth-logo-png-5.png\" width=5% >\n",
    "<img align=\"right\" style=\"padding-left:10px;\" src=\"https://colab.research.google.com/img/colab_favicon_256px.png\" width=6% >\n",
    "\n",
    "\n",
    ">> *This notebook is part of the free course [EEwPython](https://colab.research.google.com/github/csaybar/EEwPython/blob/master/index.ipynb); the content is available [on GitHub](https://github.com/csaybar/EEwPython)* and released under the [Apache 2.0 License](https://www.gnu.org/licenses/gpl-3.0.en.html). 99% of this material has been adapted from [Google Earth Engine Guides](https://developers.google.com/earth-engine/)."
   ]
  },
  {
   "cell_type": "markdown",
   "metadata": {
    "colab_type": "text",
    "id": "Y1EZ7wfkIv-a"
   },
   "source": [
    "<!--NAVIGATION-->\n",
    "| [Contents](index.ipynb) | [Image](2_eeImage.ipynb) >\n",
    "\n",
    "<a href=\"https://colab.research.google.com/github/csaybar/EEwPython/blob/master/1_Introduction.ipynb\"><img align=\"left\" src=\"https://colab.research.google.com/assets/colab-badge.svg\" alt=\"Open in Colab\" title=\"Open and Execute in Google Colaboratory\"></a>\n"
   ]
  },
  {
   "cell_type": "markdown",
   "metadata": {
    "colab_type": "text",
    "id": "5AkUqloUQpXv"
   },
   "source": [
    "<center>\n",
    "<h1>Google Earth Engine with Python </h1>\n",
    "<h2> Developer's Guide </h2>\n",
    "</center>\n",
    "<h2> Topics:</h2>\n",
    "\n",
    "1. What is Google Earth Engine?\n",
    "2. Why python instead of code editor (Javascript)?\n",
    "3. Connecting GEE with other Google Services\n",
    "4. Hello World!\n",
    "5. Fundamental Earth Engine data structures\n",
    "\n"
   ]
  },
  {
   "cell_type": "markdown",
   "metadata": {
    "colab_type": "text",
    "id": "iC8wVueFoT85"
   },
   "source": [
    "### Authentication \n",
    "\n",
    "To read/write from a Google Drive or Google Cloud Storage bucket to which you have access, it's necessary to authenticate (as yourself). You'll also need to authenticate as yourself with Earth Engine, so that you'll have access to your scripts, assets, etc.\n",
    "\n",
    "#### Authenticate to Earth Engine\n",
    "\n",
    "In order to access Earth Engine, signup at [signup.earthengine.google.com](https://signup.earthengine.google.com/).\n",
    "\n",
    "Identify yourself to Google Cloud, so you have access to storage and other resources. When you run the code below, it will display a link in the output to an authentication page in your browser. Follow the link to a page that will let you grant permission to the Google Earth Engine to access your resources. Copy the code from the permissions page back into this notebook and press return to complete the process.\n",
    "\n"
   ]
  },
  {
   "cell_type": "code",
   "execution_count": 4,
   "metadata": {},
   "outputs": [],
   "source": [
    "import ee"
   ]
  },
  {
   "cell_type": "code",
   "execution_count": 10,
   "metadata": {
    "colab": {},
    "colab_type": "code",
    "id": "MeEs5x5uoevg"
   },
   "outputs": [
    {
     "data": {
      "text/html": [
       "<p>To authorize access needed by Earth Engine, open the following\n",
       "        URL in a web browser and follow the instructions:</p>\n",
       "        <p><a href=https://code.earthengine.google.com/client-auth?scopes=https%3A//www.googleapis.com/auth/earthengine%20https%3A//www.googleapis.com/auth/cloud-platform%20https%3A//www.googleapis.com/auth/devstorage.full_control&request_id=haTbEAi_Aq0wkX6e-fy8kCFACgRFqHyCrTp4oZMhRFA&tc=gnfRvIe3P1TqdumymMTMWXLY-aMk7M5MhWzgr_8E-MA&cc=YCdyfPT_Hr4N4neP5L6bZqnVmaj8ZBOxMA5kPW_NXiE>https://code.earthengine.google.com/client-auth?scopes=https%3A//www.googleapis.com/auth/earthengine%20https%3A//www.googleapis.com/auth/cloud-platform%20https%3A//www.googleapis.com/auth/devstorage.full_control&request_id=haTbEAi_Aq0wkX6e-fy8kCFACgRFqHyCrTp4oZMhRFA&tc=gnfRvIe3P1TqdumymMTMWXLY-aMk7M5MhWzgr_8E-MA&cc=YCdyfPT_Hr4N4neP5L6bZqnVmaj8ZBOxMA5kPW_NXiE</a></p>\n",
       "        <p>The authorization workflow will generate a code, which you should paste in the box below.</p>\n",
       "        "
      ],
      "text/plain": [
       "<IPython.core.display.HTML object>"
      ]
     },
     "metadata": {},
     "output_type": "display_data"
    },
    {
     "name": "stdout",
     "output_type": "stream",
     "text": [
      "\n",
      "Successfully saved authorization token.\n"
     ]
    }
   ],
   "source": [
    "ee.Authenticate()"
   ]
  },
  {
   "cell_type": "markdown",
   "metadata": {
    "colab_type": "text",
    "id": "NHrBAom4whXN"
   },
   "source": [
    " Once you have authorized access (just Earth Engine auth is required). Initialize your connection as shown the cell below."
   ]
  },
  {
   "cell_type": "code",
   "execution_count": 11,
   "metadata": {
    "colab": {},
    "colab_type": "code",
    "id": "5F0WYN_8xECE"
   },
   "outputs": [],
   "source": [
    "ee.Initialize(project='ee-ivanlizarazo')"
   ]
  },
  {
   "cell_type": "markdown",
   "metadata": {
    "colab_type": "text",
    "id": "smUsOFYLy3J5"
   },
   "source": [
    "## 6. Hello World!\n",
    "\n",
    "\n",
    "- **assetID**: Is the key to identify a specific file in [GEE datasets](https://developers.google.com/earth-engine/datasets/catalog/USGS_SRTMGL1_003).\n",
    "- **ee.Image('assetID')**: In GEE raster data are represented as Image objects (see the next topic). \n",
    "- **ee.Image.clip(ee.Geometry.____)**: Is a ee.Image method used to crop spatially all the bands in Images.\n",
    "- **folium**: bridge between Python and [Leaflet](https://leafletjs.com/)\n"
   ]
  },
  {
   "cell_type": "code",
   "execution_count": 13,
   "metadata": {
    "colab": {
     "base_uri": "https://localhost:8080/",
     "height": 559
    },
    "colab_type": "code",
    "id": "GeMYFEvKy43n",
    "outputId": "208a7be4-8ba5-4e03-f220-c53c6096cc33"
   },
   "outputs": [
    {
     "data": {
      "text/html": [
       "<div style=\"width:100%;\"><div style=\"position:relative;width:100%;height:0;padding-bottom:60%;\"><span style=\"color:#565656\">Make this Notebook Trusted to load map: File -> Trust Notebook</span><iframe srcdoc=\"&lt;!DOCTYPE html&gt;\n",
       "&lt;html&gt;\n",
       "&lt;head&gt;\n",
       "    \n",
       "    &lt;meta http-equiv=&quot;content-type&quot; content=&quot;text/html; charset=UTF-8&quot; /&gt;\n",
       "    \n",
       "        &lt;script&gt;\n",
       "            L_NO_TOUCH = false;\n",
       "            L_DISABLE_3D = false;\n",
       "        &lt;/script&gt;\n",
       "    \n",
       "    &lt;style&gt;html, body {width: 100%;height: 100%;margin: 0;padding: 0;}&lt;/style&gt;\n",
       "    &lt;style&gt;#map {position:absolute;top:0;bottom:0;right:0;left:0;}&lt;/style&gt;\n",
       "    &lt;script src=&quot;https://cdn.jsdelivr.net/npm/leaflet@1.9.3/dist/leaflet.js&quot;&gt;&lt;/script&gt;\n",
       "    &lt;script src=&quot;https://code.jquery.com/jquery-3.7.1.min.js&quot;&gt;&lt;/script&gt;\n",
       "    &lt;script src=&quot;https://cdn.jsdelivr.net/npm/bootstrap@5.2.2/dist/js/bootstrap.bundle.min.js&quot;&gt;&lt;/script&gt;\n",
       "    &lt;script src=&quot;https://cdnjs.cloudflare.com/ajax/libs/Leaflet.awesome-markers/2.0.2/leaflet.awesome-markers.js&quot;&gt;&lt;/script&gt;\n",
       "    &lt;link rel=&quot;stylesheet&quot; href=&quot;https://cdn.jsdelivr.net/npm/leaflet@1.9.3/dist/leaflet.css&quot;/&gt;\n",
       "    &lt;link rel=&quot;stylesheet&quot; href=&quot;https://cdn.jsdelivr.net/npm/bootstrap@5.2.2/dist/css/bootstrap.min.css&quot;/&gt;\n",
       "    &lt;link rel=&quot;stylesheet&quot; href=&quot;https://netdna.bootstrapcdn.com/bootstrap/3.0.0/css/bootstrap-glyphicons.css&quot;/&gt;\n",
       "    &lt;link rel=&quot;stylesheet&quot; href=&quot;https://cdn.jsdelivr.net/npm/@fortawesome/fontawesome-free@6.2.0/css/all.min.css&quot;/&gt;\n",
       "    &lt;link rel=&quot;stylesheet&quot; href=&quot;https://cdnjs.cloudflare.com/ajax/libs/Leaflet.awesome-markers/2.0.2/leaflet.awesome-markers.css&quot;/&gt;\n",
       "    &lt;link rel=&quot;stylesheet&quot; href=&quot;https://cdn.jsdelivr.net/gh/python-visualization/folium/folium/templates/leaflet.awesome.rotate.min.css&quot;/&gt;\n",
       "    \n",
       "            &lt;meta name=&quot;viewport&quot; content=&quot;width=device-width,\n",
       "                initial-scale=1.0, maximum-scale=1.0, user-scalable=no&quot; /&gt;\n",
       "            &lt;style&gt;\n",
       "                #map_e065275d964bbe0da382a048a4190eb4 {\n",
       "                    position: relative;\n",
       "                    width: 100.0%;\n",
       "                    height: 100.0%;\n",
       "                    left: 0.0%;\n",
       "                    top: 0.0%;\n",
       "                }\n",
       "                .leaflet-container { font-size: 1rem; }\n",
       "            &lt;/style&gt;\n",
       "        \n",
       "&lt;/head&gt;\n",
       "&lt;body&gt;\n",
       "    \n",
       "    \n",
       "            &lt;div class=&quot;folium-map&quot; id=&quot;map_e065275d964bbe0da382a048a4190eb4&quot; &gt;&lt;/div&gt;\n",
       "        \n",
       "&lt;/body&gt;\n",
       "&lt;script&gt;\n",
       "    \n",
       "    \n",
       "            var map_e065275d964bbe0da382a048a4190eb4 = L.map(\n",
       "                &quot;map_e065275d964bbe0da382a048a4190eb4&quot;,\n",
       "                {\n",
       "                    center: [4.5, -75.0],\n",
       "                    crs: L.CRS.EPSG3857,\n",
       "                    zoom: 5,\n",
       "                    zoomControl: true,\n",
       "                    preferCanvas: false,\n",
       "                }\n",
       "            );\n",
       "\n",
       "            \n",
       "\n",
       "        \n",
       "    \n",
       "            var tile_layer_e04a2ee7c1bc9ef753ba7697e19687e1 = L.tileLayer(\n",
       "                &quot;https://tile.openstreetmap.org/{z}/{x}/{y}.png&quot;,\n",
       "                {&quot;attribution&quot;: &quot;\\u0026copy; \\u003ca href=\\&quot;https://www.openstreetmap.org/copyright\\&quot;\\u003eOpenStreetMap\\u003c/a\\u003e contributors&quot;, &quot;detectRetina&quot;: false, &quot;maxNativeZoom&quot;: 19, &quot;maxZoom&quot;: 19, &quot;minZoom&quot;: 0, &quot;noWrap&quot;: false, &quot;opacity&quot;: 1, &quot;subdomains&quot;: &quot;abc&quot;, &quot;tms&quot;: false}\n",
       "            );\n",
       "        \n",
       "    \n",
       "            tile_layer_e04a2ee7c1bc9ef753ba7697e19687e1.addTo(map_e065275d964bbe0da382a048a4190eb4);\n",
       "        \n",
       "    \n",
       "            var tile_layer_dd4c52da72bf85b42e0de2cc9b2fb31b = L.tileLayer(\n",
       "                &quot;https://earthengine.googleapis.com/v1/projects/ee-ivanlizarazo/maps/2875430a880636cf762b43b6a1b3a25b-201885262f0da1b265ec94fe6f956299/tiles/{z}/{x}/{y}&quot;,\n",
       "                {&quot;attribution&quot;: &quot;Google Earth Engine&quot;, &quot;detectRetina&quot;: false, &quot;maxZoom&quot;: 18, &quot;minZoom&quot;: 0, &quot;noWrap&quot;: false, &quot;opacity&quot;: 1, &quot;subdomains&quot;: &quot;abc&quot;, &quot;tms&quot;: false}\n",
       "            );\n",
       "        \n",
       "    \n",
       "            tile_layer_dd4c52da72bf85b42e0de2cc9b2fb31b.addTo(map_e065275d964bbe0da382a048a4190eb4);\n",
       "        \n",
       "    \n",
       "            var layer_control_53c4ec42580e6aa4b82b81df0101f8ef_layers = {\n",
       "                base_layers : {\n",
       "                    &quot;openstreetmap&quot; : tile_layer_e04a2ee7c1bc9ef753ba7697e19687e1,\n",
       "                },\n",
       "                overlays :  {\n",
       "                    &quot;median composite&quot; : tile_layer_dd4c52da72bf85b42e0de2cc9b2fb31b,\n",
       "                },\n",
       "            };\n",
       "            let layer_control_53c4ec42580e6aa4b82b81df0101f8ef = L.control.layers(\n",
       "                layer_control_53c4ec42580e6aa4b82b81df0101f8ef_layers.base_layers,\n",
       "                layer_control_53c4ec42580e6aa4b82b81df0101f8ef_layers.overlays,\n",
       "                {&quot;autoZIndex&quot;: true, &quot;collapsed&quot;: true, &quot;position&quot;: &quot;topright&quot;}\n",
       "            ).addTo(map_e065275d964bbe0da382a048a4190eb4);\n",
       "\n",
       "        \n",
       "&lt;/script&gt;\n",
       "&lt;/html&gt;\" style=\"position:absolute;width:100%;height:100%;left:0;top:0;border:none !important;\" allowfullscreen webkitallowfullscreen mozallowfullscreen></iframe></div></div>"
      ],
      "text/plain": [
       "<folium.folium.Map at 0x78e1d8935d60>"
      ]
     },
     "execution_count": 13,
     "metadata": {},
     "output_type": "execute_result"
    }
   ],
   "source": [
    "import folium\n",
    "\n",
    "Col = ee.Image(\"USGS/SRTMGL1_003\")\\\n",
    "         .clip(ee.Geometry.Rectangle(-84, -4, -66,12))\n",
    "\n",
    "# Define the URL format used for Earth Engine generated map tiles.\n",
    "EE_TILES = 'https://earthengine.googleapis.com/map/{mapid}/{{z}}/{{x}}/{{y}}?token={token}'\n",
    "\n",
    "# Use folium to visualize the imagery.\n",
    "mapid = Col.getMapId({'pallete': ['black', 'white'], 'min': 0, 'max': 3000})\n",
    "\n",
    "map = folium.Map(location=[4.5, -75],zoom_start=5)\n",
    "folium.TileLayer(\n",
    "    tiles = mapid[\"tile_fetcher\"].url_format,\n",
    "    attr='Google Earth Engine',\n",
    "    overlay=True,\n",
    "    name='median composite',\n",
    "  ).add_to(map)\n",
    "map.add_child(folium.LayerControl())\n",
    "map"
   ]
  },
  {
   "cell_type": "markdown",
   "metadata": {
    "colab_type": "text",
    "id": "7QhIzsv01DU5"
   },
   "source": [
    "## 7. Fundamental Earth Engine data structures\n",
    "\n",
    "The two most fundamental geographic data structures in Earth Engine are **`Image`** and **`Feature`** corresponding to raster and vector data types, respectively. Images are composed of bands and a dictionary of properties. Features are composed of a **`Geometry`** and a dictionary of properties. A stack of images (e.g. an image time series) is handled by an **`ImageCollection`**. A collection of features is handled by a  **`FeatureCollection`**. Other fundamental data structures in Earth Engine include:\n",
    "\n",
    "- `Dictionary`\n",
    "- `List`\n",
    "- `Array`\n",
    "- `Geometry`\n",
    "- `Date`\n",
    "- `Number`\n",
    "- `String`.\n",
    "\n",
    "It is important to remember that these are all **server-side objects (or containers)**. That is, your client browser does not know anything about the objects in your script unless you explicitly request information about them. That request triggers a message being passed from Google to the Python API. If the message is large, there will be a corresponding slow down. Existing two ways to inspect **Earth Engine containers**  in Python console. The first one, `print()` that return the  petition (as a JSON) to the server and `*.getInfo()` that returns the contents of the `container`.  The next section summaries all the Data Structures mentioned above.\n",
    "\n"
   ]
  },
  {
   "cell_type": "markdown",
   "metadata": {
    "colab_type": "text",
    "id": "LzAFvH1p4L_C"
   },
   "source": [
    "#### 7.1. Strings\n",
    "\n",
    "Define a Python string, then put it into the **`ee.String()`** container to be sent to Earth Engine:"
   ]
  },
  {
   "cell_type": "code",
   "execution_count": 0,
   "metadata": {
    "colab": {},
    "colab_type": "code",
    "id": "NDvyLLcw16Dw"
   },
   "outputs": [],
   "source": [
    "# Define a string, then put it into an EE container.\n",
    "aString = 'To the cloud!'\n",
    "eeString = ee.String(aString)\n",
    "print('Where to?', eeString)\n",
    "eeString"
   ]
  },
  {
   "cell_type": "markdown",
   "metadata": {
    "colab_type": "text",
    "id": "zgmudfl-2Ek6"
   },
   "source": [
    "Think of **`ee.Thing`** as a container for a thing that exists on the server. In this example, the string is defined first, then put into the container. \n",
    "\n",
    "### 7.2. Numbers\n",
    "\n",
    "Use **`ee.Number()`** to create number objects on the server."
   ]
  },
  {
   "cell_type": "code",
   "execution_count": 0,
   "metadata": {
    "colab": {},
    "colab_type": "code",
    "id": "w0VGwFim3Ugp"
   },
   "outputs": [],
   "source": [
    "# Define a number that exists on the server.\n",
    "import numpy as np\n",
    "serverNumber = ee.Number(np.e)\n",
    "print('e=', serverNumber)\n",
    "serverNumber"
   ]
  },
  {
   "cell_type": "markdown",
   "metadata": {
    "colab_type": "text",
    "id": "-IFAt2YT3Ytx"
   },
   "source": [
    "### 7.3. Lists\n",
    "\n",
    "To make a Python list into an **`ee.List`** object on the server, you can put a Python literal into a container as with numbers and strings. Earth Engine also provides server-side convenience methods for making sequences of numbers.\n",
    "\n"
   ]
  },
  {
   "cell_type": "code",
   "execution_count": 0,
   "metadata": {
    "colab": {},
    "colab_type": "code",
    "id": "J1kzgip03XPb"
   },
   "outputs": [],
   "source": [
    "# Make a sequence the hard way.\n",
    "eeList = ee.List([1, 2, 3, 4, 5])\n",
    "\n",
    "# Make a sequence the easy way!\n",
    "sequence = ee.List.sequence(1, 5);\n",
    "\n",
    "print('Sequence:', sequence)\n",
    "print('Opening the container:', sequence.getInfo())"
   ]
  },
  {
   "cell_type": "markdown",
   "metadata": {
    "colab_type": "text",
    "id": "yXsITlrg3c4U"
   },
   "source": [
    "### 7.4. Dictionaries\n",
    "\n",
    "You can construct an Earth Engine `Dictionary` from a Python object, as with strings, numbers and lists. At construction time, you can use Python functionality to initialize the Earth Engine object. In this case an ee.Dictionary is constructed directly from a Python literal object:"
   ]
  },
  {
   "cell_type": "code",
   "execution_count": 0,
   "metadata": {
    "colab": {},
    "colab_type": "code",
    "id": "p808bk_F3dTZ"
   },
   "outputs": [],
   "source": [
    "dictionary = ee.Dictionary({\n",
    "  'e': np.e,\n",
    "  'pi': np.pi,\n",
    "  'phi': (1 + np.sqrt(5))/2\n",
    "})\n",
    "\n",
    "# Get some values from the dictionary.\n",
    "print('Euler:', dictionary.get('e').getInfo())\n",
    "print('Pi:', dictionary.get('pi').getInfo())\n",
    "print('Golden ratio:', dictionary.get('phi').getInfo())\n",
    "\n",
    "# Get all the keys:\n",
    "print('Keys: ', dictionary.keys().getInfo())"
   ]
  },
  {
   "cell_type": "markdown",
   "metadata": {
    "colab_type": "text",
    "id": "VapD_lKe3h1h"
   },
   "source": [
    "In this example, observe that once you have an `ee.Dictionary`, you must use methods on the `ee.Dictionary` to get values. Specifically, get(key) returns the value associated with key. Since the type of object returned by `get()` could be be anything, if you're going to do anything to the object other then print it, you need to cast it to the right type. Also note that the `keys()` method returns an List."
   ]
  },
  {
   "cell_type": "markdown",
   "metadata": {
    "colab_type": "text",
    "id": "O08_uhb63puh"
   },
   "source": [
    "### 7.5. Dates\n",
    "\n",
    "Date objects are the way Earth Engine represents time. As in the previous examples, it is important to distinguish between a Python Date object and an Earth Engine `ee.Date` object.\n",
    "\n",
    "A Date object can be construct from:\n",
    "  - A string.\n",
    "  - Python [datetime](https://docs.python.org/3/library/datetime.html) object.\n",
    "  - Static methods provided by the ee.Date class.\n",
    "  \n",
    "The next examples illustrates the construction of dates from these three forms."
   ]
  },
  {
   "cell_type": "code",
   "execution_count": 0,
   "metadata": {
    "colab": {},
    "colab_type": "code",
    "id": "8QOrLUcP3icW"
   },
   "outputs": [],
   "source": [
    "# Define a date in Earth Engine.\n",
    "date = ee.Date('2015-12-31')\n",
    "print('Date:', date)\n",
    "print('Date:', date.getInfo())"
   ]
  },
  {
   "cell_type": "markdown",
   "metadata": {
    "colab_type": "text",
    "id": "QSLwbOtd3uuE"
   },
   "source": [
    "In earth engine the date is representing with timestamps since midnight on January 1, 1970 considering an in milliseconds timestep . "
   ]
  },
  {
   "cell_type": "code",
   "execution_count": 0,
   "metadata": {
    "colab": {},
    "colab_type": "code",
    "id": "z7ZMj2FI3wc2"
   },
   "outputs": [],
   "source": [
    "# Get the current time using the JavaScript Date.now() method.\n",
    "import datetime as dt\n",
    "now = dt.datetime.now()\n",
    "print('Milliseconds since January 1, 1970', now)\n",
    "\n",
    "# Initialize an ee.Date object.\n",
    "eeNow = ee.Date(now)\n",
    "print('Now:', eeNow)"
   ]
  },
  {
   "cell_type": "markdown",
   "metadata": {
    "colab_type": "text",
    "id": "ya02lB5K3zAY"
   },
   "source": [
    "Arguments to Earth Engine methods can be passed in order, for example to create an `ee.Date` from year, month and day, you can pass parameters of the `fromYMD()` static method in the order year, month, day:\n",
    "\n"
   ]
  },
  {
   "cell_type": "code",
   "execution_count": 0,
   "metadata": {
    "colab": {},
    "colab_type": "code",
    "id": "rm8Ae53731KW"
   },
   "outputs": [],
   "source": [
    "aDate = ee.Date.fromYMD(2017, 1, 13)\n",
    "print('aDate:', aDate)"
   ]
  },
  {
   "cell_type": "markdown",
   "metadata": {
    "colab_type": "text",
    "id": "wxOiCbzJg9k8"
   },
   "source": [
    "<!--NAVIGATION-->\n",
    "| [Contents](index.ipynb) | [Image](2_eeImage.ipynb) >\n",
    "\n",
    "<a href=\"https://colab.research.google.com/github/csaybar/EEwPython/blob/master/1_Introduction.ipynb\"><img align=\"left\" src=\"https://colab.research.google.com/assets/colab-badge.svg\" alt=\"Open in Colab\" title=\"Open and Execute in Google Colaboratory\"></a>\n"
   ]
  }
 ],
 "metadata": {
  "colab": {
   "collapsed_sections": [],
   "name": "0_WhatIsColab.ipynb",
   "provenance": [],
   "toc_visible": true,
   "version": "0.3.2"
  },
  "kernelspec": {
   "display_name": "gee-python-ux0q8Gst-py3.12",
   "language": "python",
   "name": "python3"
  },
  "language_info": {
   "codemirror_mode": {
    "name": "ipython",
    "version": 3
   },
   "file_extension": ".py",
   "mimetype": "text/x-python",
   "name": "python",
   "nbconvert_exporter": "python",
   "pygments_lexer": "ipython3",
   "version": "3.12.1"
  }
 },
 "nbformat": 4,
 "nbformat_minor": 1
}
